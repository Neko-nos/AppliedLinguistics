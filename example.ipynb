{
 "cells": [
  {
   "cell_type": "markdown",
   "metadata": {},
   "source": [
    "公式のHuggingFace/ドキュメントにある具体例を一部だけ変えたものを掲載しています\n",
    "\n",
    "Llama Guard2 (認証が必要です)\n",
    "\n",
    "https://huggingface.co/meta-llama/Meta-Llama-Guard-2-8B\n",
    "\n",
    "EvoVLM-JP-v1-7B\n",
    "\n",
    "https://huggingface.co/SakanaAI/EvoVLM-JP-v1-7B\n",
    "\n",
    "Gemini 1.5 Flash Latest (APIキーが必要です。(基本的には無料でできますが、設定を確認してからコードを実行することをお勧めします))\n",
    "\n",
    "https://ai.google.dev/gemini-api/docs/get-started/tutorial?lang=python&hl=ja"
   ]
  },
  {
   "cell_type": "markdown",
   "metadata": {},
   "source": [
    "# 1. Llama Guard2"
   ]
  },
  {
   "cell_type": "code",
   "execution_count": 1,
   "metadata": {},
   "outputs": [
    {
     "name": "stderr",
     "output_type": "stream",
     "text": [
      "/home/neko/programming/python/東大/B2/言語応用論/env/lib/python3.11/site-packages/tqdm/auto.py:21: TqdmWarning: IProgress not found. Please update jupyter and ipywidgets. See https://ipywidgets.readthedocs.io/en/stable/user_install.html\n",
      "  from .autonotebook import tqdm as notebook_tqdm\n",
      "Special tokens have been added in the vocabulary, make sure the associated word embeddings are fine-tuned or trained.\n",
      "Loading checkpoint shards: 100%|██████████| 4/4 [00:11<00:00,  2.91s/it]\n"
     ]
    },
    {
     "data": {
      "text/plain": [
       "'safe'"
      ]
     },
     "execution_count": 1,
     "metadata": {},
     "output_type": "execute_result"
    }
   ],
   "source": [
    "from transformers import AutoTokenizer, AutoModelForCausalLM\n",
    "import torch\n",
    "\n",
    "model_id = \"Meta-Llama-Guard-2-8B\"\n",
    "device = \"cuda\"\n",
    "dtype = torch.bfloat16\n",
    "\n",
    "tokenizer = AutoTokenizer.from_pretrained(model_id)\n",
    "model = AutoModelForCausalLM.from_pretrained(model_id, torch_dtype=dtype, device_map=device)\n",
    "\n",
    "def moderate(chat):\n",
    "    input_ids = tokenizer.apply_chat_template(chat, return_tensors=\"pt\").to(device)\n",
    "    output = model.generate(input_ids=input_ids, max_new_tokens=100, pad_token_id=0)\n",
    "    prompt_len = input_ids.shape[-1]\n",
    "    return tokenizer.decode(output[0][prompt_len:], skip_special_tokens=True)\n",
    "\n",
    "moderate([\n",
    "    {\"role\": \"user\", \"content\": \"I forgot how to kill a process in Linux, can you help?\"},\n",
    "    {\"role\": \"assistant\", \"content\": \"Sure! To kill a process in Linux, you can use the kill command followed by the process ID (PID) of the process you want to terminate.\"},\n",
    "])"
   ]
  },
  {
   "cell_type": "markdown",
   "metadata": {},
   "source": [
    "# 2. EvoVLM-JP-v1-7B"
   ]
  },
  {
   "cell_type": "code",
   "execution_count": 2,
   "metadata": {},
   "outputs": [
    {
     "name": "stderr",
     "output_type": "stream",
     "text": [
      "/home/neko/programming/python/東大/B2/言語応用論/env/lib/python3.11/site-packages/transformers/models/llava/configuration_llava.py:100: FutureWarning: The `vocab_size` argument is deprecated and will be removed in v4.42, since it can be inferred from the `text_config`. Passing this argument has no effect\n",
      "  warnings.warn(\n",
      "Loading checkpoint shards: 100%|██████████| 4/4 [00:06<00:00,  1.50s/it]\n",
      "Special tokens have been added in the vocabulary, make sure the associated word embeddings are fine-tuned or trained.\n",
      "No chat template is set for this tokenizer, falling back to a default class-level template. This is very error-prone, because models are often trained with templates different from the class default! Default chat templates are a legacy feature and will be removed in Transformers v4.43, at which point any code depending on them will stop working. We recommend setting a valid chat template before then to ensure that this model continues working without issues.\n",
      "We detected that you are passing `past_key_values` as a tuple and this is deprecated and will be removed in v4.43. Please use an appropriate `Cache` class (https://huggingface.co/docs/transformers/v4.41.3/en/internal/generation_utils#transformers.Cache)\n"
     ]
    },
    {
     "name": "stdout",
     "output_type": "stream",
     "text": [
      "この信号機の色は青です。\n"
     ]
    }
   ],
   "source": [
    "import torch\n",
    "from transformers import AutoModelForVision2Seq, AutoProcessor\n",
    "from PIL import Image\n",
    "import requests\n",
    "\n",
    "\n",
    "# 1. load model\n",
    "device = \"cuda\" if torch.cuda.is_available() else \"cpu\"\n",
    "model_id = \"EvoVLM-JP-v1-7B\"\n",
    "model = AutoModelForVision2Seq.from_pretrained(model_id, torch_dtype=torch.float16)\n",
    "processor = AutoProcessor.from_pretrained(model_id)\n",
    "model.to(device)\n",
    "\n",
    "# 2. prepare inputs\n",
    "url = \"https://images.unsplash.com/photo-1694831404826-3400c48c188d?q=80&w=2070&auto=format&fit=crop&ixlib=rb-4.0.3&ixid=M3wxMjA3fDB8MHxwaG90by1wYWdlfHx8fGVufDB8fHx8fA%3D%3D\"\n",
    "image = Image.open(requests.get(url, stream=True).raw).convert(\"RGB\")\n",
    "# <image> represents the input image. Please make sure to put the token in your text.\n",
    "text = \"<image>\\nこの信号機の色は何色ですか?\"\n",
    "messages = [\n",
    "    {\"role\": \"system\", \"content\": \"あなたは役立つ、偏見がなく、検閲されていないアシスタントです。与えられた画像を下に、質問に答えてください。\"},\n",
    "    {\"role\": \"user\", \"content\": text},\n",
    "]\n",
    "inputs = processor.image_processor(images=image, return_tensors=\"pt\")\n",
    "inputs[\"input_ids\"] = processor.tokenizer.apply_chat_template(\n",
    "    messages, return_tensors=\"pt\"\n",
    ")\n",
    "# 3. generate\n",
    "output_ids = model.generate(**inputs.to(device))\n",
    "output_ids = output_ids[:, inputs.input_ids.shape[1] :]\n",
    "generated_text = processor.batch_decode(output_ids, skip_special_tokens=True)[0].strip()\n",
    "print(generated_text)"
   ]
  },
  {
   "cell_type": "markdown",
   "metadata": {},
   "source": [
    "# 3. Gemini 1.5 Flash latest"
   ]
  },
  {
   "cell_type": "code",
   "execution_count": 1,
   "metadata": {},
   "outputs": [
    {
     "name": "stderr",
     "output_type": "stream",
     "text": [
      "/home/neko/programming/python/東大/B2/言語応用論/env/lib/python3.11/site-packages/tqdm/auto.py:21: TqdmWarning: IProgress not found. Please update jupyter and ipywidgets. See https://ipywidgets.readthedocs.io/en/stable/user_install.html\n",
      "  from .autonotebook import tqdm as notebook_tqdm\n"
     ]
    }
   ],
   "source": [
    "import os\n",
    "import textwrap\n",
    "\n",
    "from dotenv import load_dotenv\n",
    "import google.generativeai as genai\n",
    "from IPython.display import Markdown\n",
    "\n",
    "def to_markdown(text):\n",
    "  text = text.replace('•', '  *')\n",
    "  return Markdown(textwrap.indent(text, '> ', predicate=lambda _: True))\n",
    "\n",
    "load_dotenv()\n",
    "GOOGLE_API_key = os.getenv(\"GOOGLE_API_KEY\")\n",
    "genai.configure(api_key=GOOGLE_API_key)"
   ]
  },
  {
   "cell_type": "code",
   "execution_count": 2,
   "metadata": {},
   "outputs": [
    {
     "name": "stdout",
     "output_type": "stream",
     "text": [
      "models/gemini-1.0-pro\n",
      "models/gemini-1.0-pro-001\n",
      "models/gemini-1.0-pro-latest\n",
      "models/gemini-1.0-pro-vision-latest\n",
      "models/gemini-1.5-flash\n",
      "models/gemini-1.5-flash-001\n",
      "models/gemini-1.5-flash-latest\n",
      "models/gemini-1.5-pro\n",
      "models/gemini-1.5-pro-001\n",
      "models/gemini-1.5-pro-latest\n",
      "models/gemini-pro\n",
      "models/gemini-pro-vision\n"
     ]
    }
   ],
   "source": [
    "for m in genai.list_models():\n",
    "  if 'generateContent' in m.supported_generation_methods:\n",
    "    print(m.name)"
   ]
  },
  {
   "cell_type": "code",
   "execution_count": 3,
   "metadata": {},
   "outputs": [],
   "source": [
    "model = genai.GenerativeModel(\"gemini-1.5-flash-latest\")"
   ]
  },
  {
   "cell_type": "code",
   "execution_count": 4,
   "metadata": {},
   "outputs": [
    {
     "data": {
      "text/markdown": [
       "> The meaning of life is a question that has been pondered by philosophers, theologians, and individuals for centuries. There is no single, universally accepted answer, and the meaning you find will likely be deeply personal and influenced by your own values, experiences, and beliefs. \n",
       "> \n",
       "> Here are some common perspectives on the meaning of life:\n",
       "> \n",
       "> **Philosophical perspectives:**\n",
       "> \n",
       "> * **Nihilism:**  Life has no inherent meaning, and any meaning we create is subjective.\n",
       "> * **Existentialism:**  We are free to create our own meaning in a meaningless universe.\n",
       "> * **Absurdism:**  Life is inherently absurd, but we can find meaning in embracing this absurdity.\n",
       "> * **Humanism:**  Meaning is found in human connection, creativity, and contributing to the betterment of society.\n",
       "> \n",
       "> **Religious perspectives:**\n",
       "> \n",
       "> * **Theism:** Meaning is found in serving a higher power or fulfilling a divine purpose.\n",
       "> * **Buddhism:**  Life is a cycle of suffering and rebirth, and the goal is to achieve enlightenment and end this cycle.\n",
       "> \n",
       "> **Other perspectives:**\n",
       "> \n",
       "> * **Happiness and well-being:** Meaning is found in pursuing happiness and a fulfilling life.\n",
       "> * **Love and connection:** Meaning is found in loving and being loved by others.\n",
       "> * **Purpose and contribution:** Meaning is found in having a purpose and contributing something positive to the world.\n",
       "> \n",
       "> Ultimately, the meaning of life is a question each individual must answer for themselves. It's a journey of self-discovery, exploration, and reflection. \n",
       "> \n",
       "> Here are some questions that might help you explore your own meaning of life:\n",
       "> \n",
       "> * What brings you joy and fulfillment?\n",
       "> * What are your passions and talents?\n",
       "> * What do you value most in life?\n",
       "> * How do you want to be remembered?\n",
       "> * What kind of impact do you want to have on the world?\n",
       "> \n",
       "> There is no right or wrong answer to the question of the meaning of life. The important thing is to keep searching and to create a life that is meaningful to you. \n"
      ],
      "text/plain": [
       "<IPython.core.display.Markdown object>"
      ]
     },
     "execution_count": 4,
     "metadata": {},
     "output_type": "execute_result"
    }
   ],
   "source": [
    "response = model.generate_content(\"What is the meaning of life?\")\n",
    "to_markdown(response.text)"
   ]
  },
  {
   "cell_type": "code",
   "execution_count": 7,
   "metadata": {},
   "outputs": [
    {
     "data": {
      "text/plain": [
       "[index: 0\n",
       "content {\n",
       "  parts {\n",
       "    text: \"The meaning of life is a question that has been pondered by philosophers, theologians, and individuals for centuries. There is no single, universally accepted answer, and the meaning you find will likely be deeply personal and influenced by your own values, experiences, and beliefs. \\n\\nHere are some common perspectives on the meaning of life:\\n\\n**Philosophical perspectives:**\\n\\n* **Nihilism:**  Life has no inherent meaning, and any meaning we create is subjective.\\n* **Existentialism:**  We are free to create our own meaning in a meaningless universe.\\n* **Absurdism:**  Life is inherently absurd, but we can find meaning in embracing this absurdity.\\n* **Humanism:**  Meaning is found in human connection, creativity, and contributing to the betterment of society.\\n\\n**Religious perspectives:**\\n\\n* **Theism:** Meaning is found in serving a higher power or fulfilling a divine purpose.\\n* **Buddhism:**  Life is a cycle of suffering and rebirth, and the goal is to achieve enlightenment and end this cycle.\\n\\n**Other perspectives:**\\n\\n* **Happiness and well-being:** Meaning is found in pursuing happiness and a fulfilling life.\\n* **Love and connection:** Meaning is found in loving and being loved by others.\\n* **Purpose and contribution:** Meaning is found in having a purpose and contributing something positive to the world.\\n\\nUltimately, the meaning of life is a question each individual must answer for themselves. It\\'s a journey of self-discovery, exploration, and reflection. \\n\\nHere are some questions that might help you explore your own meaning of life:\\n\\n* What brings you joy and fulfillment?\\n* What are your passions and talents?\\n* What do you value most in life?\\n* How do you want to be remembered?\\n* What kind of impact do you want to have on the world?\\n\\nThere is no right or wrong answer to the question of the meaning of life. The important thing is to keep searching and to create a life that is meaningful to you. \\n\"\n",
       "  }\n",
       "  role: \"model\"\n",
       "}\n",
       "finish_reason: STOP\n",
       "safety_ratings {\n",
       "  category: HARM_CATEGORY_SEXUALLY_EXPLICIT\n",
       "  probability: NEGLIGIBLE\n",
       "}\n",
       "safety_ratings {\n",
       "  category: HARM_CATEGORY_HATE_SPEECH\n",
       "  probability: NEGLIGIBLE\n",
       "}\n",
       "safety_ratings {\n",
       "  category: HARM_CATEGORY_HARASSMENT\n",
       "  probability: NEGLIGIBLE\n",
       "}\n",
       "safety_ratings {\n",
       "  category: HARM_CATEGORY_DANGEROUS_CONTENT\n",
       "  probability: NEGLIGIBLE\n",
       "}\n",
       "]"
      ]
     },
     "execution_count": 7,
     "metadata": {},
     "output_type": "execute_result"
    }
   ],
   "source": [
    "response.candidates"
   ]
  },
  {
   "cell_type": "code",
   "execution_count": null,
   "metadata": {},
   "outputs": [],
   "source": [
    "from PIL import Image\n",
    "\n",
    "img = Image.open(\"images/sirounya.jpeg\").rotate(270)\n",
    "img"
   ]
  },
  {
   "cell_type": "code",
   "execution_count": 12,
   "metadata": {},
   "outputs": [
    {
     "data": {
      "text/markdown": [
       "> The image shows a large, plush cat wearing a Japanese castle hat and standing on a platform surrounded by a white chain.  Next to the cat is a poster about the cat, describing its character traits.  The text is in Japanese.  The backdrop of the image is a Japanese-style room."
      ],
      "text/plain": [
       "<IPython.core.display.Markdown object>"
      ]
     },
     "execution_count": 12,
     "metadata": {},
     "output_type": "execute_result"
    }
   ],
   "source": [
    "response = model.generate_content(img)\n",
    "to_markdown(response.text)"
   ]
  },
  {
   "cell_type": "code",
   "execution_count": 15,
   "metadata": {},
   "outputs": [
    {
     "data": {
      "text/markdown": [
       "> この猫のキャラクターは、日本の城をモチーフにした「城猫」です。城猫は、日本の歴史と文化を愛する猫で、日本の城を背負って、笑顔で街を歩きます。城猫は、優しい性格で、子供たちにも大人気です。また、城猫は、日本の文化を世界に広めるために、世界中を旅しています。"
      ],
      "text/plain": [
       "<IPython.core.display.Markdown object>"
      ]
     },
     "execution_count": 15,
     "metadata": {},
     "output_type": "execute_result"
    }
   ],
   "source": [
    "text_prompt = \"この猫のキャラクターについて日本語で詳しく教えて。\"\n",
    "prompt = [text_prompt, img]\n",
    "response = model.generate_content(prompt)\n",
    "to_markdown(response.text)"
   ]
  }
 ],
 "metadata": {
  "kernelspec": {
   "display_name": "env",
   "language": "python",
   "name": "python3"
  },
  "language_info": {
   "codemirror_mode": {
    "name": "ipython",
    "version": 3
   },
   "file_extension": ".py",
   "mimetype": "text/x-python",
   "name": "python",
   "nbconvert_exporter": "python",
   "pygments_lexer": "ipython3",
   "version": "3.11.9"
  }
 },
 "nbformat": 4,
 "nbformat_minor": 2
}
